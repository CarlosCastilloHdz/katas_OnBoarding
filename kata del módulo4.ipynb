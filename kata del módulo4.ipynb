{
 "cells": [
  {
   "cell_type": "markdown",
   "metadata": {},
   "source": [
    "# Ejercicio 1: transformar cadenas"
   ]
  },
  {
   "cell_type": "code",
   "execution_count": 8,
   "metadata": {},
   "outputs": [
    {
     "name": "stdout",
     "output_type": "stream",
     "text": [
      "['hechos interesantes sobre la luna', 'La luna es el único satelite natural de la tierra', 'Hay varios datos interesantes sobre la luna y cómo afecta la vida aquí en la tierra', 'En promedio la luna se aleja 4cm de la tierra cada año, esta cantidad anual no es lo suficientemente significativa', 'La temperatura de la luna puede variar salvajemente', 'la temperatura promedio de la luna es de 120 C', '']\n"
     ]
    }
   ],
   "source": [
    "texto = \"\"\"hechos interesantes sobre la luna. La luna es el único satelite natural de la tierra. Hay varios datos interesantes sobre la luna y cómo afecta la vida aquí en la tierra. En promedio la luna se aleja 4cm de la tierra cada año, esta cantidad anual no es lo suficientemente significativa. La temperatura de la luna puede variar salvajemente. la temperatura promedio de la luna es de 120 C. \"\"\"\n",
    "partes_texto = texto.split(\". \")\n",
    "print(partes_texto)"
   ]
  },
  {
   "cell_type": "code",
   "execution_count": 9,
   "metadata": {},
   "outputs": [],
   "source": [
    "palabras_claves = [\"temperatura\", \"distancia\",\"promedio\", \"satelite\"]\n",
    "i = 0"
   ]
  },
  {
   "cell_type": "code",
   "execution_count": 34,
   "metadata": {},
   "outputs": [
    {
     "name": "stdout",
     "output_type": "stream",
     "text": [
      "hechos interesantes sobre la luna\n",
      "La luna es el único satelite natural de la tierra\n",
      "Hay varios datos interesantes sobre la luna y cómo afecta la vida aquí en la tierra\n",
      "En promedio la luna se aleja 4cm de la tierra cada año, esta cantidad anual no es lo suficientemente significativa\n",
      "La temperatura de la luna puede variar salvajemente\n",
      "la temperatura promedio de la luna es de 120 C\n",
      "\n"
     ]
    }
   ],
   "source": [
    "\n",
    "for oraciones in partes_texto:\n",
    "    for palabras_claves  in partes_texto:\n",
    "        if palabras_claves in oraciones:\n",
    "            print(oraciones)\n",
    "            break       "
   ]
  },
  {
   "cell_type": "code",
   "execution_count": 37,
   "metadata": {},
   "outputs": [
    {
     "name": "stdout",
     "output_type": "stream",
     "text": [
      "hechos interesantes sobre la luna\n",
      "La luna es el único satelite natural de la tierra\n",
      "Hay varios datos interesantes sobre la luna y cómo afecta la vida aquí en la tierra\n",
      "En promedio la luna se aleja 4cm de la tierra cada año, esta cantidad anual no es lo suficientemente significativa\n",
      "La temperatura de la luna puede variar salvajemente\n",
      "la temperatura promedio de la luna es de 120 Celsius\n",
      "\n"
     ]
    }
   ],
   "source": [
    "for oraciones in partes_texto:\n",
    "    for palabras_claves in partes_texto:\n",
    "        if palabras_claves in oraciones:\n",
    "            print(oraciones.replace(' C', ' Celsius'))\n",
    "            break"
   ]
  },
  {
   "cell_type": "markdown",
   "metadata": {},
   "source": [
    "# Ejercicio 2: Formateando Cadenas"
   ]
  },
  {
   "cell_type": "code",
   "execution_count": 76,
   "metadata": {},
   "outputs": [],
   "source": [
    "nombre = \"luna\"\n",
    "gravedad = 0.00162\n",
    "planeta = \"tierra\"\n"
   ]
  },
  {
   "cell_type": "code",
   "execution_count": 77,
   "metadata": {},
   "outputs": [],
   "source": [
    "titulo = f'datos de la gravedad en la {nombre}'\n"
   ]
  },
  {
   "cell_type": "code",
   "execution_count": 78,
   "metadata": {},
   "outputs": [],
   "source": [
    "hechos = f\"\"\"{'-'*80}\n",
    "nombre del planeta: {planeta}\n",
    "gravedad en {nombre}: {gravedad*1000} m/s2\n",
    "\"\"\""
   ]
  },
  {
   "cell_type": "code",
   "execution_count": 79,
   "metadata": {},
   "outputs": [
    {
     "name": "stdout",
     "output_type": "stream",
     "text": [
      "Datos De La Gravedad En La Luna\n",
      "--------------------------------------------------------------------------------\n",
      "nombre del planeta: tierra\n",
      "gravedad en luna: 1.6199999999999999 m/s2\n",
      "\n",
      "\n"
     ]
    }
   ],
   "source": [
    "cadena = f\"\"\"{titulo.title()}\n",
    "{hechos}\n",
    "\"\"\"\n",
    "print(cadena)"
   ]
  },
  {
   "cell_type": "code",
   "execution_count": 82,
   "metadata": {},
   "outputs": [
    {
     "name": "stdout",
     "output_type": "stream",
     "text": [
      "Datos De La Gravedad En La Luna\n",
      "--------------------------------------------------------------------------------\n",
      "nombre del planeta: tierra\n",
      "gravedad en luna: 1.6199999999999999 m/s2\n",
      "\n",
      "\n"
     ]
    }
   ],
   "source": [
    "nueva_cadena = f\"\"\"{titulo.title()}\n",
    "{hechos}\n",
    "\"\"\"\n",
    "print(nueva_cadena.format(nombre = 'Ganímedes', planeta = 'marte', gravedad = 0.00143*1000))"
   ]
  }
 ],
 "metadata": {
  "interpreter": {
   "hash": "33541a670e8887513ebdf0f19cec6625b51694c5ef6b1c7e83282c54d5cd54e5"
  },
  "kernelspec": {
   "display_name": "Python 3.10.2 64-bit",
   "language": "python",
   "name": "python3"
  },
  "language_info": {
   "codemirror_mode": {
    "name": "ipython",
    "version": 3
   },
   "file_extension": ".py",
   "mimetype": "text/x-python",
   "name": "python",
   "nbconvert_exporter": "python",
   "pygments_lexer": "ipython3",
   "version": "3.10.2"
  },
  "orig_nbformat": 4
 },
 "nbformat": 4,
 "nbformat_minor": 2
}
