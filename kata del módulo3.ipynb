{
 "cells": [
  {
   "cell_type": "markdown",
   "metadata": {},
   "source": [
    "# kata del módulo3"
   ]
  },
  {
   "cell_type": "markdown",
   "metadata": {},
   "source": [
    "ejercicio 1"
   ]
  },
  {
   "cell_type": "code",
   "execution_count": 2,
   "metadata": {},
   "outputs": [
    {
     "name": "stdout",
     "output_type": "stream",
     "text": [
      "Un asteriode se acerca demasiado rápido\n"
     ]
    }
   ],
   "source": [
    "velocidad = 49\n",
    "if velocidad > 25:\n",
    "    print(\"Un asteriode se acerca demasiado rápido\")\n",
    "else:\n",
    "    print(\"falsa alarma\")"
   ]
  },
  {
   "cell_type": "markdown",
   "metadata": {},
   "source": [
    "ejercicio2"
   ]
  },
  {
   "cell_type": "code",
   "execution_count": null,
   "metadata": {},
   "outputs": [],
   "source": [
    "velocidad = 19\n",
    "if velocidad >= 20:\n",
    "    print(\"mira arriba hay un asteroide\")\n",
    "elif velocidad ==20:\n",
    "    print(\"mira arriba hay un asteroide\")\n",
    "else:\n",
    "    print(\"no hay nada que ver...\")"
   ]
  },
  {
   "cell_type": "markdown",
   "metadata": {},
   "source": [
    "Ejercicio3"
   ]
  },
  {
   "cell_type": "code",
   "execution_count": 3,
   "metadata": {},
   "outputs": [
    {
     "name": "stdout",
     "output_type": "stream",
     "text": [
      "un asteriode peligroso se acerca\n"
     ]
    }
   ],
   "source": [
    "tamaño = 500\n",
    "velocidad = 35\n",
    "\n",
    "if tamaño > 25 and velocidad > 25:\n",
    "    print(\"un asteriode peligroso se acerca\")\n",
    "elif velocidad >= 20:\n",
    "    print(\"hay un asteroide mira hacia arriba\")\n",
    "elif tamaño < 25:\n",
    "    print(\"un asteroide no peligroso se acerca\")\n",
    "else:\n",
    "    print(\"un asteroide nada peligroso se acerca\")"
   ]
  }
 ],
 "metadata": {
  "interpreter": {
   "hash": "33541a670e8887513ebdf0f19cec6625b51694c5ef6b1c7e83282c54d5cd54e5"
  },
  "kernelspec": {
   "display_name": "Python 3.10.2 64-bit",
   "language": "python",
   "name": "python3"
  },
  "language_info": {
   "codemirror_mode": {
    "name": "ipython",
    "version": 3
   },
   "file_extension": ".py",
   "mimetype": "text/x-python",
   "name": "python",
   "nbconvert_exporter": "python",
   "pygments_lexer": "ipython3",
   "version": "3.10.2"
  },
  "orig_nbformat": 4
 },
 "nbformat": 4,
 "nbformat_minor": 2
}
