{
 "cells": [
  {
   "cell_type": "markdown",
   "metadata": {},
   "source": [
    "# Ejercicio 1"
   ]
  },
  {
   "cell_type": "markdown",
   "metadata": {},
   "source": [
    "distancia entre dos planetas"
   ]
  },
  {
   "cell_type": "code",
   "execution_count": 2,
   "metadata": {},
   "outputs": [
    {
     "name": "stdout",
     "output_type": "stream",
     "text": [
      "la distancia entre la tierra y jupiter es de 628949.33km y 390577.53393m\n"
     ]
    }
   ],
   "source": [
    "tierra = 149597.870\n",
    "jupiter = 778547.200\n",
    "\n",
    "distancia = abs(tierra - jupiter)\n",
    "distancia2 = distancia*0.621\n",
    "print(f\"la distancia entre la tierra y jupiter es de {distancia}km y {distancia2}m\")\n"
   ]
  },
  {
   "cell_type": "markdown",
   "metadata": {},
   "source": [
    "# Ejercicio2"
   ]
  },
  {
   "cell_type": "markdown",
   "metadata": {},
   "source": [
    "Leer la distancia del sol para dos planetas y mostrar la distancia entre los planetas."
   ]
  },
  {
   "cell_type": "code",
   "execution_count": 4,
   "metadata": {},
   "outputs": [
    {
     "name": "stdout",
     "output_type": "stream",
     "text": [
      "calculador de distancia\n",
      "78300000 km y 48624300.0mi\n"
     ]
    }
   ],
   "source": [
    "print(\"calculador de distancia\")\n",
    "planeta1 = int(input(\"introduce un planeta\"))\n",
    "planeta2 = int(input(\"introduce el segundo planeta\"))\n",
    "distancia_entre_planetas = abs(planeta1 - planeta2)\n",
    "distanciamillas = distancia_entre_planetas*0.621\n",
    "print(f\"{distancia_entre_planetas} km y {distanciamillas}mi\")"
   ]
  }
 ],
 "metadata": {
  "interpreter": {
   "hash": "33541a670e8887513ebdf0f19cec6625b51694c5ef6b1c7e83282c54d5cd54e5"
  },
  "kernelspec": {
   "display_name": "Python 3.10.2 64-bit",
   "language": "python",
   "name": "python3"
  },
  "language_info": {
   "codemirror_mode": {
    "name": "ipython",
    "version": 3
   },
   "file_extension": ".py",
   "mimetype": "text/x-python",
   "name": "python",
   "nbconvert_exporter": "python",
   "pygments_lexer": "ipython3",
   "version": "3.10.2"
  },
  "orig_nbformat": 4
 },
 "nbformat": 4,
 "nbformat_minor": 2
}
